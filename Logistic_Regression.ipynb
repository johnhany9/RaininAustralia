{
 "cells": [
  {
   "cell_type": "code",
   "execution_count": 3,
   "id": "ee7f2877",
   "metadata": {},
   "outputs": [],
   "source": [
    "#importing all the required librarys\n",
    "import numpy as np\n",
    "import pandas as pd\n",
    "import matplotlib.pyplot as plt\n",
    "import seaborn as sns\n",
    "%matplotlib inline\n",
    "\n",
    "import warnings\n",
    "warnings.filterwarnings(\"ignore\")"
   ]
  },
  {
   "cell_type": "code",
   "execution_count": 4,
   "id": "8a2624ae",
   "metadata": {},
   "outputs": [],
   "source": [
    "#loading the dataset and reading csv\n",
    "df= pd.read_csv('weatherAUS.csv')"
   ]
  },
  {
   "cell_type": "code",
   "execution_count": 5,
   "id": "c3df1cd8",
   "metadata": {},
   "outputs": [],
   "source": [
    "# spliting training and testing data\n",
    "from sklearn.model_selection import train_test_split\n",
    "\n",
    "X = df.drop(['RainTomorrow'], axis = 1)\n",
    "y = df['RainTomorrow']\n",
    "\n",
    "X_train, X_test, y_train, y_test = train_test_split(X,y,test_size=0.3,random_state=27)"
   ]
  },
  {
   "cell_type": "code",
   "execution_count": 6,
   "id": "202502e9",
   "metadata": {},
   "outputs": [
    {
     "data": {
      "text/plain": [
       "Index(['date', 'location', 'mintemp', 'maxtemp', 'rainfall', 'evaporation',\n",
       "       'sunshine', 'windgustdir', 'windgustspeed', 'winddir9am', 'winddir3pm',\n",
       "       'windspeed9am', 'windspeed3pm', 'humidity9am', 'humidity3pm',\n",
       "       'pressure9am', 'pressure3pm', 'cloud9am', 'cloud3pm', 'temp9am',\n",
       "       'temp3pm', 'raintoday', 'raintomorrow'],\n",
       "      dtype='object')"
      ]
     },
     "execution_count": 6,
     "metadata": {},
     "output_type": "execute_result"
    }
   ],
   "source": [
    "# all columns are now lowercase letters\n",
    "df.columns=df.columns.str.strip().str.lower()\n",
    "df.columns"
   ]
  },
  {
   "cell_type": "code",
   "execution_count": 7,
   "id": "92497ebd",
   "metadata": {},
   "outputs": [
    {
     "name": "stdout",
     "output_type": "stream",
     "text": [
      "<class 'pandas.core.frame.DataFrame'>\n",
      "RangeIndex: 145460 entries, 0 to 145459\n",
      "Data columns (total 25 columns):\n",
      " #   Column         Non-Null Count   Dtype  \n",
      "---  ------         --------------   -----  \n",
      " 0   location       145460 non-null  object \n",
      " 1   mintemp        143975 non-null  float64\n",
      " 2   maxtemp        144199 non-null  float64\n",
      " 3   rainfall       142199 non-null  float64\n",
      " 4   evaporation    82670 non-null   float64\n",
      " 5   sunshine       75625 non-null   float64\n",
      " 6   windgustdir    135134 non-null  object \n",
      " 7   windgustspeed  135197 non-null  float64\n",
      " 8   winddir9am     134894 non-null  object \n",
      " 9   winddir3pm     141232 non-null  object \n",
      " 10  windspeed9am   143693 non-null  float64\n",
      " 11  windspeed3pm   142398 non-null  float64\n",
      " 12  humidity9am    142806 non-null  float64\n",
      " 13  humidity3pm    140953 non-null  float64\n",
      " 14  pressure9am    130395 non-null  float64\n",
      " 15  pressure3pm    130432 non-null  float64\n",
      " 16  cloud9am       89572 non-null   float64\n",
      " 17  cloud3pm       86102 non-null   float64\n",
      " 18  temp9am        143693 non-null  float64\n",
      " 19  temp3pm        141851 non-null  float64\n",
      " 20  raintoday      142199 non-null  object \n",
      " 21  raintomorrow   142193 non-null  object \n",
      " 22  Year           145460 non-null  int64  \n",
      " 23  Month          145460 non-null  int64  \n",
      " 24  Day            145460 non-null  int64  \n",
      "dtypes: float64(16), int64(3), object(6)\n",
      "memory usage: 27.7+ MB\n"
     ]
    }
   ],
   "source": [
    "df['date'] = pd.to_datetime(df['date']) # parse as datatime\n",
    "\n",
    "df['Year'] = df['date'].dt.year\n",
    "df['Month'] = df['date'].dt.month\n",
    "df['Day'] = df['date'].dt.day\n",
    "\n",
    "df[['date', 'Year', 'Month', 'Day']] # preview changes made\n",
    "\n",
    "df.drop('date', axis=1, inplace = True)\n",
    "df.info()"
   ]
  },
  {
   "cell_type": "code",
   "execution_count": 8,
   "id": "beaa6dba",
   "metadata": {},
   "outputs": [],
   "source": [
    "# Checking data completeness\n",
    "#missing = pd.DataFrame(df.isnull().sum(),columns = ['no.of missing values'])\n",
    "\n",
    "#missing['% missing_values']= (missing/len(df)).round(2)*100\n",
    "#missing"
   ]
  },
  {
   "cell_type": "code",
   "execution_count": 9,
   "id": "5b9d3ea8",
   "metadata": {},
   "outputs": [],
   "source": [
    "df=df.drop(['sunshine','evaporation','cloud3pm','cloud9am'], axis=1)"
   ]
  },
  {
   "cell_type": "code",
   "execution_count": 10,
   "id": "f19784e1",
   "metadata": {},
   "outputs": [],
   "source": [
    "#missing"
   ]
  },
  {
   "cell_type": "code",
   "execution_count": 11,
   "id": "cd7af900",
   "metadata": {},
   "outputs": [],
   "source": [
    "# Remove rows where target variables are missing\n",
    "df.dropna(how='all', subset=['raintomorrow'], inplace=True)"
   ]
  },
  {
   "cell_type": "code",
   "execution_count": 12,
   "id": "85e52183",
   "metadata": {},
   "outputs": [],
   "source": [
    "# Extract numerical features\n",
    "num_col = df.select_dtypes(include=np.number).columns.to_list()\n",
    "#len(num_col)"
   ]
  },
  {
   "cell_type": "code",
   "execution_count": 13,
   "id": "560d52a9",
   "metadata": {},
   "outputs": [],
   "source": [
    "# exrtact categorical features\n",
    "cat_col=df.select_dtypes(object).columns.tolist()\n",
    "#len(cat_col)"
   ]
  },
  {
   "cell_type": "code",
   "execution_count": 14,
   "id": "17d89c2e",
   "metadata": {},
   "outputs": [],
   "source": [
    "# droping rainfall column in dataframe and Numerical columns\n",
    "df=df.drop(['rainfall'], axis=1)\n",
    "num_col\n",
    "num_col.remove('rainfall')"
   ]
  },
  {
   "cell_type": "code",
   "execution_count": 15,
   "id": "c4c11171",
   "metadata": {},
   "outputs": [],
   "source": [
    "from sklearn.preprocessing import LabelEncoder\n",
    "# Impute missing values for numerical features\n",
    "median_values = df[num_col].median()\n",
    "df[num_col] = df[num_col].fillna(value=median_values)\n",
    "# Convert categorized values to numerical values\n",
    "le = LabelEncoder()\n",
    "df[cat_col] =df[cat_col].astype('str').apply(le.fit_transform)"
   ]
  },
  {
   "cell_type": "code",
   "execution_count": 16,
   "id": "df01ccab",
   "metadata": {},
   "outputs": [
    {
     "data": {
      "text/plain": [
       "location         0\n",
       "mintemp          0\n",
       "maxtemp          0\n",
       "windgustdir      0\n",
       "windgustspeed    0\n",
       "winddir9am       0\n",
       "winddir3pm       0\n",
       "windspeed9am     0\n",
       "windspeed3pm     0\n",
       "humidity9am      0\n",
       "humidity3pm      0\n",
       "pressure9am      0\n",
       "pressure3pm      0\n",
       "temp9am          0\n",
       "temp3pm          0\n",
       "raintoday        0\n",
       "raintomorrow     0\n",
       "Year             0\n",
       "Month            0\n",
       "Day              0\n",
       "dtype: int64"
      ]
     },
     "execution_count": 16,
     "metadata": {},
     "output_type": "execute_result"
    }
   ],
   "source": [
    "# Impute missing values for categorical features\n",
    "mode_values=df[cat_col].mode()\n",
    "df[cat_col] = df[cat_col].fillna(value=mode_values)\n",
    "df.isnull().sum()"
   ]
  },
  {
   "cell_type": "code",
   "execution_count": 17,
   "id": "fa33dd65",
   "metadata": {},
   "outputs": [
    {
     "data": {
      "text/plain": [
       "['Year',\n",
       " 'windspeed3pm',\n",
       " 'humidity3pm',\n",
       " 'Month',\n",
       " 'maxtemp',\n",
       " 'humidity9am',\n",
       " 'windgustspeed',\n",
       " 'windspeed9am',\n",
       " 'mintemp',\n",
       " 'pressure3pm',\n",
       " 'Day']"
      ]
     },
     "execution_count": 17,
     "metadata": {},
     "output_type": "execute_result"
    }
   ],
   "source": [
    "# lets drop the correlated variables\n",
    "df=df.drop(columns=['temp9am','temp3pm','pressure9am'],axis=1)\n",
    "numcol_del=['temp9am','temp3pm','pressure9am']\n",
    "num_cols = list(set(num_col) - set(numcol_del))\n",
    "num_cols"
   ]
  },
  {
   "cell_type": "code",
   "execution_count": 18,
   "id": "b5f3ac23",
   "metadata": {},
   "outputs": [],
   "source": [
    "#cat_col"
   ]
  },
  {
   "cell_type": "code",
   "execution_count": 19,
   "id": "c65857e9",
   "metadata": {},
   "outputs": [],
   "source": [
    "# spliting training and testing data\n",
    "from sklearn.model_selection import train_test_split\n",
    "\n",
    "X = df.drop(['raintomorrow'], axis = 1)\n",
    "y = df['raintomorrow']\n",
    "\n",
    "X_train, X_test, y_train, y_test = train_test_split(X,y,test_size=0.3,random_state=27)"
   ]
  },
  {
   "cell_type": "code",
   "execution_count": 30,
   "id": "094992c9",
   "metadata": {},
   "outputs": [],
   "source": [
    "from sklearn.linear_model import LogisticRegression\n",
    "from sklearn.metrics import accuracy_score\n",
    "from sklearn.metrics import confusion_matrix\n",
    "from sklearn.metrics import precision_score\n",
    "from sklearn.metrics import recall_score"
   ]
  },
  {
   "cell_type": "code",
   "execution_count": 21,
   "id": "7651e86c",
   "metadata": {},
   "outputs": [
    {
     "name": "stdout",
     "output_type": "stream",
     "text": [
      "Model accuracy score: 83.72%\n"
     ]
    }
   ],
   "source": [
    "# Initiatlize the model\n",
    "logreg = LogisticRegression(solver='liblinear', random_state = 0)\n",
    "\n",
    "# Fit the model\n",
    "logreg.fit(X_train, y_train)\n",
    "\n",
    "# Predict data points \n",
    "y_pred_test = logreg.predict(X_test)\n",
    "\n",
    "# Print accuracy scores\n",
    "print(f'Model accuracy score: {round(accuracy_score(y_test, y_pred_test) * 100, 2)}%')"
   ]
  },
  {
   "cell_type": "code",
   "execution_count": 22,
   "id": "0330d533",
   "metadata": {},
   "outputs": [
    {
     "name": "stdout",
     "output_type": "stream",
     "text": [
      "Training set score: 83.96%\n",
      "Test set score: 83.72%\n"
     ]
    }
   ],
   "source": [
    "print(f'Training set score: {round(logreg.score(X_train, y_train) * 100, 2)}%')\n",
    "print(f'Test set score: {round(logreg.score(X_test, y_test) * 100, 2)}%')"
   ]
  },
  {
   "cell_type": "code",
   "execution_count": 23,
   "id": "5426fb5d",
   "metadata": {},
   "outputs": [
    {
     "name": "stdout",
     "output_type": "stream",
     "text": [
      "[[31267  1834]\n",
      " [ 5112  4445]]\n"
     ]
    }
   ],
   "source": [
    "cm=confusion_matrix(y_test,y_pred_test)\n",
    "print(cm)"
   ]
  },
  {
   "cell_type": "code",
   "execution_count": 24,
   "id": "2408b527",
   "metadata": {},
   "outputs": [
    {
     "name": "stdout",
     "output_type": "stream",
     "text": [
      "0.7079152731326644\n"
     ]
    }
   ],
   "source": [
    "ps=precision_score(y_test,y_pred_test)\n",
    "print(ps)"
   ]
  },
  {
   "cell_type": "code",
   "execution_count": 25,
   "id": "c4589c7e",
   "metadata": {},
   "outputs": [
    {
     "name": "stdout",
     "output_type": "stream",
     "text": [
      "0.4651041121690907\n"
     ]
    }
   ],
   "source": [
    "rs=recall_score(y_test,y_pred_test)\n",
    "print(rs)"
   ]
  },
  {
   "cell_type": "code",
   "execution_count": 26,
   "id": "df2df9c8",
   "metadata": {},
   "outputs": [],
   "source": [
    "import matplotlib.pyplot as plt"
   ]
  },
  {
   "cell_type": "code",
   "execution_count": 27,
   "id": "942f58c9",
   "metadata": {},
   "outputs": [],
   "source": [
    "y_pred_proba=logreg.predict_proba(X_test)[::,1]"
   ]
  },
  {
   "cell_type": "code",
   "execution_count": 32,
   "id": "116dd9f2",
   "metadata": {},
   "outputs": [],
   "source": [
    "import sklearn.metrics as metrics"
   ]
  },
  {
   "cell_type": "code",
   "execution_count": 33,
   "id": "780b79ba",
   "metadata": {},
   "outputs": [],
   "source": [
    "fpr,tpr,_= metrics.roc_curve(y_test,y_pred_proba)"
   ]
  },
  {
   "cell_type": "code",
   "execution_count": 35,
   "id": "bb79db6e",
   "metadata": {},
   "outputs": [],
   "source": [
    "auc=metrics.roc_auc_score(y_test,y_pred_proba)"
   ]
  },
  {
   "cell_type": "code",
   "execution_count": 39,
   "id": "39dfb3e1",
   "metadata": {},
   "outputs": [
    {
     "data": {
      "image/png": "[encoded data removed]",
      "text/plain": [
       "<Figure size 432x288 with 1 Axes>"
      ]
     },
     "metadata": {
      "needs_background": "light"
     },
     "output_type": "display_data"
    }
   ],
   "source": [
    "plt.plot(fpr,tpr,label=\"data 1, auc=\"+str(auc))\n",
    "plt.legend(loc=4)\n",
    "plt.show()"
   ]
  },
  {
   "cell_type": "code",
   "execution_count": null,
   "id": "c822e708",
   "metadata": {},
   "outputs": [],
   "source": []
  }
 ],
 "metadata": {
  "kernelspec": {
   "display_name": "Python 3 (ipykernel)",
   "language": "python",
   "name": "python3"
  },
  "language_info": {
   "codemirror_mode": {
    "name": "ipython",
    "version": 3
   },
   "file_extension": ".py",
   "mimetype": "text/x-python",
   "name": "python",
   "nbconvert_exporter": "python",
   "pygments_lexer": "ipython3",
   "version": "3.9.7"
  }
 },
 "nbformat": 4,
 "nbformat_minor": 5
}
